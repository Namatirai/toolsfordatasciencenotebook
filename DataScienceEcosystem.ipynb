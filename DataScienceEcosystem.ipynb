{
 "cells": [
  {
   "cell_type": "markdown",
   "id": "57b31a89",
   "metadata": {},
   "source": [
    "#  Data Science Tools and Ecosystem\n"
   ]
  },
  {
   "cell_type": "markdown",
   "id": "803a6ee6",
   "metadata": {},
   "source": [
    " In this notebook,Data Science and Tools Ecosyste, are summarized."
   ]
  },
  {
   "cell_type": "markdown",
   "id": "8cc6f1e1",
   "metadata": {},
   "source": [
    "Some of the popular languages that Data Scientists use are:\n",
    "1. python\n",
    "2. R\n",
    "3. Java"
   ]
  },
  {
   "cell_type": "markdown",
   "id": "78e29745",
   "metadata": {},
   "source": [
    "|Data Science Tools|\n",
    "|-------|\n",
    "|R Studio|\n",
    "|Jupyter Notebook|\n",
    "|Anaconda|\n",
    "\n"
   ]
  },
  {
   "cell_type": "markdown",
   "id": "f2e5376a",
   "metadata": {},
   "source": [
    "### Below are a few examples of evaluating arithmetic expressions in Python\n",
    "\n",
    "1. 1 + 1 =2\n",
    "2. 3 -2 = 1\n",
    "3. 5 * 4 = 20\n",
    "4. 20 /4 = 5\n",
    "5. 6 % 5 =1\n"
   ]
  },
  {
   "cell_type": "code",
   "execution_count": 1,
   "id": "5fbbb5c6",
   "metadata": {},
   "outputs": [
    {
     "name": "stdout",
     "output_type": "stream",
     "text": [
      "17\n"
     ]
    }
   ],
   "source": [
    "#This a simple arithmetic expression to mutiply then add integers\n",
    "sum =(3*4)+5\n",
    "print(sum)\n"
   ]
  },
  {
   "cell_type": "code",
   "execution_count": 2,
   "id": "ce104274",
   "metadata": {},
   "outputs": [
    {
     "name": "stdout",
     "output_type": "stream",
     "text": [
      "3.3333333333333335\n"
     ]
    }
   ],
   "source": [
    "#This will convert 200 minutes to hours by dividing by 60\n",
    "hours = 200/60\n",
    "print(hours)"
   ]
  },
  {
   "cell_type": "markdown",
   "id": "12a4ae11",
   "metadata": {},
   "source": [
    "Objectives:\n",
    "1. R\n",
    "2. Python\n",
    "3. Java\n"
   ]
  },
  {
   "cell_type": "markdown",
   "id": "eff9c82a",
   "metadata": {},
   "source": [
    "## Author\n",
    "Namatirai Chibvongodze\n",
    "\n"
   ]
  },
  {
   "cell_type": "code",
   "execution_count": null,
   "id": "28d6ab38",
   "metadata": {},
   "outputs": [],
   "source": []
  }
 ],
 "metadata": {
  "kernelspec": {
   "display_name": "Python 3 (ipykernel)",
   "language": "python",
   "name": "python3"
  },
  "language_info": {
   "codemirror_mode": {
    "name": "ipython",
    "version": 3
   },
   "file_extension": ".py",
   "mimetype": "text/x-python",
   "name": "python",
   "nbconvert_exporter": "python",
   "pygments_lexer": "ipython3",
   "version": "3.11.5"
  }
 },
 "nbformat": 4,
 "nbformat_minor": 5
}
